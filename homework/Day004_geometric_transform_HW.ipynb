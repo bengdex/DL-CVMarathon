{
 "cells": [
  {
   "cell_type": "markdown",
   "metadata": {},
   "source": [
    "# 作業\n",
    "\n",
    "實作本篇提到的三大概念\n",
    "\n",
    "- 翻轉：實作上下左右的翻轉\n",
    "- 縮放：比較鄰近差值與雙立方插值 (或雙線性插值) 的圖片品質\n",
    "- 平移：建立 Translation Transformation Matrix 來做平移"
   ]
  },
  {
   "cell_type": "code",
   "execution_count": 1,
   "metadata": {},
   "outputs": [],
   "source": [
    "import cv2\n",
    "import time\n",
    "import numpy as np\n",
    "\n",
    "img_path = 'lena.png'\n",
    "img = cv2.imread(img_path)"
   ]
  },
  {
   "cell_type": "markdown",
   "metadata": {},
   "source": [
    "## 上下左右翻轉圖片"
   ]
  },
  {
   "cell_type": "code",
   "execution_count": 4,
   "metadata": {},
   "outputs": [],
   "source": [
    "# 水平翻轉 (horizontal)\n",
    "img_hflip = img[:, ::-1, :]\n",
    "\n",
    "# 垂直翻轉 (vertical)\n",
    "img_vflip = img[::-1, :, :]\n",
    "\n",
    "# 水平 + 垂直翻轉\n",
    "img_hvflip = img[::-1, ::-1, :]\n",
    "\n",
    "# 組合 + 顯示圖片\n",
    "hflip = np.hstack((img, img_hflip))\n",
    "vflip = np.hstack((img_vflip, img_hvflip))\n",
    "img_flip = np.vstack((hflip, vflip))\n",
    "while True:\n",
    "    cv2.imshow('hflip', hflip)\n",
    "    cv2.imshow('vflip', vflip)\n",
    "    cv2.imshow('flip image', img_flip)\n",
    "    k = cv2.waitKey(0)\n",
    "    if k == 27:\n",
    "        cv2.destroyAllWindows()\n",
    "        break"
   ]
  },
  {
   "cell_type": "markdown",
   "metadata": {},
   "source": [
    "## 縮放圖片\n",
    "\n",
    "### 放大\n",
    "\n",
    "我們先透過縮小圖片去壓縮原有圖片保有的資訊，再放大比較不同方法之間的速度與圖片品質"
   ]
  },
  {
   "cell_type": "code",
   "execution_count": 5,
   "metadata": {},
   "outputs": [
    {
     "name": "stdout",
     "output_type": "stream",
     "text": [
      "INTER_AREA zoom cost 0.000997304916381836\n",
      "INTER_CUBIC zoom cost 0.005984067916870117\n"
     ]
    }
   ],
   "source": [
    "# 將圖片縮小成原本的 20%\n",
    "img_test = cv2.resize(img, None, fx=0.2, fy=0.2)\n",
    "\n",
    "# 將圖片放大為\"小圖片\"的 8 倍大 = 原圖的 1.6 倍大\n",
    "fx, fy = 8, 8\n",
    "\n",
    "# 鄰近差值 scale + 計算花費時間\n",
    "start_time = time.time()\n",
    "img_area_scale = cv2.resize(img_test, None, fx=fx, fy=fy, interpolation=cv2.INTER_AREA)\n",
    "print('INTER_AREA zoom cost {}'.format(time.time() - start_time))\n",
    "\n",
    "# 雙立方差補 scale + 計算花費時間\n",
    "start_time = time.time()\n",
    "img_cubic_scale = cv2.resize(img_test, None, fx=fx, fy=fy, interpolation=cv2.INTER_CUBIC)\n",
    "print('INTER_CUBIC zoom cost {}'.format(time.time() - start_time))\n",
    "\n",
    "# 組合 + 顯示圖片\n",
    "img_zoom = np.hstack((img_area_scale, img_cubic_scale))\n",
    "while True:\n",
    "    cv2.imshow('zoom image', img_zoom)\n",
    "    k = cv2.waitKey(0)\n",
    "    if k == 27:\n",
    "        cv2.destroyAllWindows()\n",
    "        break"
   ]
  },
  {
   "cell_type": "markdown",
   "metadata": {},
   "source": [
    "## 平移幾何轉換"
   ]
  },
  {
   "cell_type": "code",
   "execution_count": 6,
   "metadata": {},
   "outputs": [
    {
     "ename": "TypeError",
     "evalue": "Required argument 'object' (pos 1) not found",
     "output_type": "error",
     "traceback": [
      "\u001b[1;31m---------------------------------------------------------------------------\u001b[0m",
      "\u001b[1;31mTypeError\u001b[0m                                 Traceback (most recent call last)",
      "\u001b[1;32m<ipython-input-6-e304e49e2648>\u001b[0m in \u001b[0;36m<module>\u001b[1;34m()\u001b[0m\n\u001b[0;32m      1\u001b[0m \u001b[1;31m# 設定 translation transformation matrix\u001b[0m\u001b[1;33m\u001b[0m\u001b[1;33m\u001b[0m\u001b[0m\n\u001b[0;32m      2\u001b[0m \u001b[1;31m# x 平移 50 pixel; y 平移 100 pixel\u001b[0m\u001b[1;33m\u001b[0m\u001b[1;33m\u001b[0m\u001b[0m\n\u001b[1;32m----> 3\u001b[1;33m \u001b[0mM\u001b[0m \u001b[1;33m=\u001b[0m \u001b[0mnp\u001b[0m\u001b[1;33m.\u001b[0m\u001b[0marray\u001b[0m\u001b[1;33m(\u001b[0m\u001b[1;33m)\u001b[0m\u001b[1;33m\u001b[0m\u001b[0m\n\u001b[0m\u001b[0;32m      4\u001b[0m \u001b[0mshift_img\u001b[0m \u001b[1;33m=\u001b[0m \u001b[0mcv2\u001b[0m\u001b[1;33m.\u001b[0m\u001b[0mwarpAffine\u001b[0m\u001b[1;33m(\u001b[0m\u001b[0mimg\u001b[0m\u001b[1;33m,\u001b[0m \u001b[0mM\u001b[0m\u001b[1;33m,\u001b[0m \u001b[1;33m(\u001b[0m\u001b[0mimg\u001b[0m\u001b[1;33m.\u001b[0m\u001b[0mshape\u001b[0m\u001b[1;33m[\u001b[0m\u001b[1;36m1\u001b[0m\u001b[1;33m]\u001b[0m\u001b[1;33m,\u001b[0m \u001b[0mimg\u001b[0m\u001b[1;33m.\u001b[0m\u001b[0mshape\u001b[0m\u001b[1;33m[\u001b[0m\u001b[1;36m0\u001b[0m\u001b[1;33m]\u001b[0m\u001b[1;33m)\u001b[0m\u001b[1;33m)\u001b[0m\u001b[1;33m\u001b[0m\u001b[0m\n\u001b[0;32m      5\u001b[0m \u001b[1;33m\u001b[0m\u001b[0m\n",
      "\u001b[1;31mTypeError\u001b[0m: Required argument 'object' (pos 1) not found"
     ]
    }
   ],
   "source": [
    "# 設定 translation transformation matrix\n",
    "# x 平移 50 pixel; y 平移 100 pixel\n",
    "M = M = np.array([[1, 0, 100],\n",
    "              [0, 1, 50]], dtype=np.float32)\n",
    "shift_img = cv2.warpAffine(img, M, (img.shape[1], img.shape[0]))\n",
    "\n",
    "# 組合 + 顯示圖片\n",
    "img_shift = np.hstack((img, shift_img))\n",
    "while True:\n",
    "    cv2.imshow('shift image', img_shift)\n",
    "    k = cv2.waitKey(0)\n",
    "    if k == 27:\n",
    "        cv2.destroyAllWindows()\n",
    "        break"
   ]
  },
  {
   "cell_type": "code",
   "execution_count": null,
   "metadata": {},
   "outputs": [],
   "source": []
  }
 ],
 "metadata": {
  "kernelspec": {
   "display_name": "Python 3",
   "language": "python",
   "name": "python3"
  },
  "language_info": {
   "codemirror_mode": {
    "name": "ipython",
    "version": 3
   },
   "file_extension": ".py",
   "mimetype": "text/x-python",
   "name": "python",
   "nbconvert_exporter": "python",
   "pygments_lexer": "ipython3",
   "version": "3.6.5"
  }
 },
 "nbformat": 4,
 "nbformat_minor": 2
}
