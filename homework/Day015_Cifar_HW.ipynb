{
 "cells": [
  {
   "cell_type": "markdown",
   "metadata": {},
   "source": [
    "## 『本次練習內容』\n",
    "#### 運用這幾天所學觀念搭建一個CNN分類器"
   ]
  },
  {
   "cell_type": "markdown",
   "metadata": {},
   "source": [
    "## 『本次練習目的』\n",
    "  #### 熟悉CNN分類器搭建步驟與原理\n",
    "  #### 學員們可以嘗試不同搭法，如使用不同的Maxpooling層，用GlobalAveragePooling取代Flatten等等"
   ]
  },
  {
   "cell_type": "code",
   "execution_count": 7,
   "metadata": {},
   "outputs": [],
   "source": [
    "from keras.models import Sequential\n",
    "from keras.layers import Convolution2D\n",
    "from keras.layers import MaxPooling2D\n",
    "from keras.layers import Flatten\n",
    "from keras.layers import Dense\n",
    "from keras.layers import Dropout\n",
    "from keras.layers import BatchNormalization\n",
    "from keras.layers import Activation\n",
    "from keras.datasets import cifar10\n",
    "import numpy as np\n",
    "import tensorflow as tf\n",
    "from sklearn.preprocessing import OneHotEncoder\n"
   ]
  },
  {
   "cell_type": "code",
   "execution_count": 2,
   "metadata": {},
   "outputs": [
    {
     "name": "stdout",
     "output_type": "stream",
     "text": [
      "Downloading data from https://www.cs.toronto.edu/~kriz/cifar-10-python.tar.gz\n",
      "170500096/170498071 [==============================] - 82s 0us/step\n",
      "(50000, 32, 32, 3)\n"
     ]
    }
   ],
   "source": [
    "(x_train, y_train), (x_test, y_test) = cifar10.load_data()\n",
    "\n",
    "print(x_train.shape) #(50000, 32, 32, 3)\n",
    "\n",
    "## Normalize Data\n",
    "def normalize(X_train,X_test):\n",
    "        mean = np.mean(X_train,axis=(0,1,2,3))\n",
    "        std = np.std(X_train, axis=(0, 1, 2, 3))\n",
    "        X_train = (X_train-mean)/(std+1e-7)\n",
    "        X_test = (X_test-mean)/(std+1e-7) \n",
    "        return X_train, X_test,mean,std\n",
    "    \n",
    "    \n",
    "## Normalize Training and Testset    \n",
    "x_train, x_test,mean_train,std_train = normalize(x_train, x_test) "
   ]
  },
  {
   "cell_type": "code",
   "execution_count": 3,
   "metadata": {},
   "outputs": [],
   "source": [
    "## OneHot Label 由(None, 1)-(None, 10)\n",
    "## ex. label=2,變成[0,0,1,0,0,0,0,0,0,0]\n",
    "one_hot=OneHotEncoder()\n",
    "y_train=one_hot.fit_transform(y_train).toarray()\n",
    "y_test=one_hot.transform(y_test).toarray()"
   ]
  },
  {
   "cell_type": "code",
   "execution_count": 9,
   "metadata": {},
   "outputs": [
    {
     "name": "stderr",
     "output_type": "stream",
     "text": [
      "C:\\ProgramData\\Anaconda3\\lib\\site-packages\\ipykernel_launcher.py:6: UserWarning: Update your `Conv2D` call to the Keras 2 API: `Conv2D(32, (3, 3), input_shape=(32, 32, 3..., activation=\"relu\")`\n",
      "  \n",
      "C:\\ProgramData\\Anaconda3\\lib\\site-packages\\ipykernel_launcher.py:12: UserWarning: Update your `Conv2D` call to the Keras 2 API: `Conv2D(64, (3, 3), input_shape=(32, 32, 3..., activation=\"relu\")`\n",
      "  if sys.path[0] == '':\n",
      "C:\\ProgramData\\Anaconda3\\lib\\site-packages\\ipykernel_launcher.py:25: UserWarning: Update your `Dense` call to the Keras 2 API: `Dense(activation=\"softmax\", units=10)`\n"
     ]
    },
    {
     "name": "stdout",
     "output_type": "stream",
     "text": [
      "Epoch 1/20\n",
      "50000/50000 [==============================] - 6s 116us/step - loss: 1.4114 - accuracy: 0.5048\n",
      "Epoch 2/20\n",
      "50000/50000 [==============================] - 5s 99us/step - loss: 1.0302 - accuracy: 0.6339\n",
      "Epoch 3/20\n",
      "50000/50000 [==============================] - 5s 99us/step - loss: 0.8723 - accuracy: 0.6947\n",
      "Epoch 4/20\n",
      "50000/50000 [==============================] - 5s 101us/step - loss: 0.7639 - accuracy: 0.7316\n",
      "Epoch 5/20\n",
      "50000/50000 [==============================] - 6s 113us/step - loss: 0.6752 - accuracy: 0.7629\n",
      "Epoch 6/20\n",
      "50000/50000 [==============================] - 5s 107us/step - loss: 0.6018 - accuracy: 0.78930s - loss: 0.6014 - accuracy: 0.78\n",
      "Epoch 7/20\n",
      "50000/50000 [==============================] - 5s 109us/step - loss: 0.5485 - accuracy: 0.8077\n",
      "Epoch 8/20\n",
      "50000/50000 [==============================] - 6s 113us/step - loss: 0.4833 - accuracy: 0.8296\n",
      "Epoch 9/20\n",
      "50000/50000 [==============================] - 5s 101us/step - loss: 0.4376 - accuracy: 0.8460\n",
      "Epoch 10/20\n",
      "50000/50000 [==============================] - 5s 107us/step - loss: 0.3894 - accuracy: 0.8623\n",
      "Epoch 11/20\n",
      "50000/50000 [==============================] - 6s 111us/step - loss: 0.3585 - accuracy: 0.8728\n",
      "Epoch 12/20\n",
      "50000/50000 [==============================] - 5s 109us/step - loss: 0.3274 - accuracy: 0.8834\n",
      "Epoch 13/20\n",
      "50000/50000 [==============================] - 5s 104us/step - loss: 0.2965 - accuracy: 0.8949\n",
      "Epoch 14/20\n",
      "50000/50000 [==============================] - 5s 102us/step - loss: 0.2819 - accuracy: 0.9002\n",
      "Epoch 15/20\n",
      "50000/50000 [==============================] - 5s 106us/step - loss: 0.2595 - accuracy: 0.9081\n",
      "Epoch 16/20\n",
      "50000/50000 [==============================] - 5s 103us/step - loss: 0.2430 - accuracy: 0.9140\n",
      "Epoch 17/20\n",
      "50000/50000 [==============================] - 5s 106us/step - loss: 0.2332 - accuracy: 0.9175\n",
      "Epoch 18/20\n",
      "50000/50000 [==============================] - 6s 120us/step - loss: 0.2150 - accuracy: 0.9247\n",
      "Epoch 19/20\n",
      "50000/50000 [==============================] - 5s 108us/step - loss: 0.2078 - accuracy: 0.9262\n",
      "Epoch 20/20\n",
      "50000/50000 [==============================] - 5s 103us/step - loss: 0.1986 - accuracy: 0.9312\n"
     ]
    },
    {
     "data": {
      "text/plain": [
       "<keras.callbacks.callbacks.History at 0x16932b52d68>"
      ]
     },
     "execution_count": 9,
     "metadata": {},
     "output_type": "execute_result"
    }
   ],
   "source": [
    "\n",
    "classifier=Sequential()\n",
    "\n",
    "#卷積組合\n",
    "#classifier.add(Convolution2D('自己設計參數'))#32,3,3,input_shape=(32,32,3),activation='relu''\n",
    "classifier.add(Convolution2D(32, 3, 3, input_shape = (32, 32, 3), activation = 'relu'))\n",
    "classifier.add(BatchNormalization())\n",
    "classifier.add(MaxPooling2D(pool_size=(2, 2))) \n",
    "classifier.add(Dropout(0.25))\n",
    "\n",
    "#卷積組合\n",
    "classifier.add(Convolution2D(64, 3, 3, input_shape = (32, 32, 3), activation = 'relu'))\n",
    "classifier.add(BatchNormalization())\n",
    "classifier.add(MaxPooling2D(pool_size=(2, 2))) \n",
    "classifier.add(Dropout(0.25))\n",
    "\n",
    "#flatten\n",
    "classifier.add(Flatten())\n",
    "\n",
    "#FC\n",
    "classifier.add(Dense(256)) #output_dim=100,activation=relu\n",
    "classifier.add(Activation('relu'))\n",
    "\n",
    "#輸出\n",
    "classifier.add(Dense(output_dim=10,activation='softmax'))\n",
    "\n",
    "#超過兩個就要選categorical_crossentrophy\n",
    "classifier.compile(optimizer = 'adam', loss = 'categorical_crossentropy', metrics = ['accuracy'])\n",
    "classifier.fit(x_train,y_train,batch_size=100,epochs=20)"
   ]
  },
  {
   "cell_type": "markdown",
   "metadata": {},
   "source": [
    "## 預測新圖片，輸入影像前處理要與訓練時相同\n",
    "#### ((X-mean)/(std+1e-7) ):這裡的mean跟std是訓練集的\n",
    "## 維度如下方示範"
   ]
  },
  {
   "cell_type": "code",
   "execution_count": 10,
   "metadata": {},
   "outputs": [
    {
     "data": {
      "text/plain": [
       "array([[5.2226866e-03, 4.0725295e-11, 1.0918435e-11, 9.9476826e-01,\n",
       "        5.9494701e-11, 1.2625127e-16, 9.7899341e-11, 3.4753120e-17,\n",
       "        9.1740567e-06, 4.7707268e-17]], dtype=float32)"
      ]
     },
     "execution_count": 10,
     "metadata": {},
     "output_type": "execute_result"
    }
   ],
   "source": [
    "input_example=(np.zeros(shape=(1,32,32,3))-mean_train)/(std_train+1e-7) \n",
    "classifier.predict(input_example)"
   ]
  },
  {
   "cell_type": "code",
   "execution_count": 13,
   "metadata": {},
   "outputs": [
    {
     "name": "stdout",
     "output_type": "stream",
     "text": [
      "10000/10000 [==============================] - 1s 79us/step\n",
      "Test loss: 1.2277210143089294\n",
      "Test accuracy: 0.7425000071525574\n"
     ]
    }
   ],
   "source": [
    "scores = classifier.evaluate(x_test, y_test, verbose=1)\n",
    "print('Test loss:', scores[0])\n",
    "print('Test accuracy:', scores[1])"
   ]
  },
  {
   "cell_type": "code",
   "execution_count": null,
   "metadata": {},
   "outputs": [],
   "source": []
  }
 ],
 "metadata": {
  "kernelspec": {
   "display_name": "Python 3",
   "language": "python",
   "name": "python3"
  },
  "language_info": {
   "codemirror_mode": {
    "name": "ipython",
    "version": 3
   },
   "file_extension": ".py",
   "mimetype": "text/x-python",
   "name": "python",
   "nbconvert_exporter": "python",
   "pygments_lexer": "ipython3",
   "version": "3.6.5"
  }
 },
 "nbformat": 4,
 "nbformat_minor": 2
}
